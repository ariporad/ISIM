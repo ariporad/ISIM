{
 "cells": [
  {
   "cell_type": "markdown",
   "id": "79f3bcb2",
   "metadata": {},
   "source": [
    "Foo Bar"
   ]
  },
  {
   "cell_type": "code",
   "execution_count": null,
   "id": "1f32b3d8",
   "metadata": {},
   "outputs": [],
   "source": []
  }
 ],
 "metadata": {
  "authors": [
   {
    "name": "Ari Porad\\Introduction to Instrumentation, Sensors, and Measurement (ISIM)"
   }
  ],
  "kernelspec": {
   "display_name": "Python 3",
   "language": "python",
   "name": "python3"
  },
  "language_info": {
   "codemirror_mode": {
    "name": "ipython",
    "version": 3
   },
   "file_extension": ".py",
   "mimetype": "text/x-python",
   "name": "python",
   "nbconvert_exporter": "python",
   "pygments_lexer": "ipython3",
   "version": "3.8.7"
  },
  "title": "Lab 8: Ballistocardiograph"
 },
 "nbformat": 4,
 "nbformat_minor": 5
}
